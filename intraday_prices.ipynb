{
 "cells": [
  {
   "cell_type": "code",
   "execution_count": null,
   "metadata": {},
   "outputs": [],
   "source": [
    "import requests\n",
    "import datetime\n",
    "import pandas as pd\n",
    "import matplotlib.pyplot as plt\n",
    "\n",
    "def hourly_price_historical(symbol, comparison_symbol, aggregate):\n",
    "    url = 'https://min-api.cryptocompare.com/data/histohour?fsym={}&tsym={}&aggregate={}'\\\n",
    "            .format(symbol.upper(), comparison_symbol.upper(), aggregate)\n",
    "    page = requests.get(url)\n",
    "    data = page.json()['Data']\n",
    "    df = pd.DataFrame(data)\n",
    "    df['timestamp'] = [datetime.datetime.fromtimestamp(d) for d in df.time]\n",
    "    return df"
   ]
  },
  {
   "cell_type": "code",
   "execution_count": null,
   "metadata": {},
   "outputs": [],
   "source": [
    "test = hourly_price_historical(\"LRC\", \"USD\", )"
   ]
  }
 ],
 "metadata": {
  "kernelspec": {
   "display_name": "Python 3.9.7 ('base')",
   "language": "python",
   "name": "python3"
  },
  "language_info": {
   "name": "python",
   "version": "3.9.7"
  },
  "orig_nbformat": 4,
  "vscode": {
   "interpreter": {
    "hash": "2f01b70c2b5bc37ad9b4b5b74b24845ca09b44cd6c1832b0d1cb927e0a278314"
   }
  }
 },
 "nbformat": 4,
 "nbformat_minor": 2
}
